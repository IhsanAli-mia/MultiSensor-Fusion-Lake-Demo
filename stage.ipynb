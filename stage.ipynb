{
 "cells": [
  {
   "cell_type": "code",
   "execution_count": null,
   "metadata": {},
   "outputs": [],
   "source": [
    "import s3fs\n",
    "from datetime import datetime, timedelta\n",
    "import pystac\n",
    "from pystac.extensions.eo import EOExtension\n",
    "from pystac.extensions.sat import SatExtension\n",
    "import os\n",
    "from minio import Minio\n",
    "import tifffile\n",
    "from pathlib import Path\n",
    "import zarr\n",
    "import numpy as np\n",
    "import shutil\n",
    "import re\n",
    "from dateutil import parser\n",
    "import gdal"
   ]
  },
  {
   "cell_type": "code",
   "execution_count": 24,
   "metadata": {},
   "outputs": [],
   "source": [
    "def upload_to_minio(client, bucket_name, local_path, minio_path):\n",
    "    \"\"\"Upload a file or directory to MinIO server\"\"\"\n",
    "    if os.path.isfile(local_path):\n",
    "        client.fput_object(bucket_name, minio_path, local_path)\n",
    "    elif os.path.isdir(local_path):\n",
    "        for root, _, files in os.walk(local_path):\n",
    "            for file in files:\n",
    "                local_file_path = os.path.join(root, file)\n",
    "                minio_file_path = os.path.join(minio_path, os.path.relpath(local_file_path, local_path))\n",
    "                client.fput_object(bucket_name, minio_file_path, local_file_path)"
   ]
  },
  {
   "cell_type": "code",
   "execution_count": 25,
   "metadata": {},
   "outputs": [],
   "source": [
    "minio_client = Minio(\n",
    "    \"localhost:9000\",  \n",
    "    access_key=\"minioadmin\",\n",
    "    secret_key=\"minioadmin\",\n",
    "    secure=False \n",
    ")"
   ]
  },
  {
   "cell_type": "code",
   "execution_count": 61,
   "metadata": {},
   "outputs": [],
   "source": [
    "# Source directory containing files and .zarr directories\n",
    "source_path = Path(\"../Data_Lake/Test/38-Cloud_test/Natural_False_Color/\")\n",
    "bucket_name = \"fusion-lake\"\n",
    "# Ensure bucket exists"
   ]
  },
  {
   "cell_type": "code",
   "execution_count": null,
   "metadata": {},
   "outputs": [
    {
     "name": "stdout",
     "output_type": "stream",
     "text": [
      "Uploading Zarr store to MinIO: raw/LC08_L1TP_050024_20160520_20170324_01_T1.zarr\n",
      "Uploading Zarr store to MinIO: raw/LC08_L1TP_032037_20160420_20170223_01_T1.zarr\n",
      "Uploading Zarr store to MinIO: raw/LC08_L1TP_064015_20160420_20170223_01_T1.zarr\n",
      "Uploading Zarr store to MinIO: raw/LC08_L1TP_063013_20160920_20170221_01_T1.zarr\n",
      "Uploading Zarr store to MinIO: raw/LC08_L1TP_066014_20160520_20170223_01_T1.zarr\n",
      "Uploading Zarr store to MinIO: raw/LC08_L1TP_018008_20160520_20170324_01_T1.zarr\n",
      "Uploading Zarr store to MinIO: raw/LC08_L1TP_029041_20160720_20170222_01_T1.zarr\n",
      "Uploading Zarr store to MinIO: raw/LC08_L1TP_064012_20160420_20170223_01_T1.zarr\n",
      "Uploading Zarr store to MinIO: raw/LC08_L1TP_029044_20160720_20170222_01_T1.zarr\n",
      "Uploading Zarr store to MinIO: raw/LC08_L1TP_035029_20160120_20170224_01_T1.zarr\n",
      "Uploading Zarr store to MinIO: raw/LC08_L1TP_003052_20160120_20170405_01_T1.zarr\n",
      "Uploading Zarr store to MinIO: raw/LC08_L1TP_034037_20160520_20170223_01_T1.zarr\n",
      "Uploading Zarr store to MinIO: raw/LC08_L1TP_063012_20160920_20170221_01_T1.zarr\n",
      "Uploading Zarr store to MinIO: raw/LC08_L1TP_029032_20160720_20170222_01_T1.zarr\n",
      "Uploading Zarr store to MinIO: raw/LC08_L1TP_039035_20160320_20170224_01_T1.zarr\n",
      "Uploading Zarr store to MinIO: raw/LC08_L1TP_032030_20160420_20170223_01_T1.zarr\n",
      "Uploading Zarr store to MinIO: raw/LC08_L1TP_032035_20160420_20170223_01_T1.zarr\n",
      "Uploading Zarr store to MinIO: raw/LC08_L1TP_034029_20160520_20170223_01_T1.zarr\n",
      "Uploading Zarr store to MinIO: raw/LC08_L1TP_035035_20160120_20170224_01_T1.zarr\n",
      "Uploading Zarr store to MinIO: raw/LC08_L1TP_034033_20160520_20170223_01_T1.zarr\n"
     ]
    }
   ],
   "source": [
    "\n",
    "if not minio_client.bucket_exists(bucket_name):\n",
    "    print(f\"Creating bucket: {bucket_name}\")\n",
    "    minio_client.make_bucket(bucket_name)\n",
    "# Upload regular files and convert to zarr\n",
    "for file_path in source_path.glob(\"*\"):\n",
    "    if file_path.is_file():\n",
    "        \n",
    "        # Convert to zarr and upload=)\n",
    "        if file_path.suffix == \".tif\" or file_path.suffix == \".TIF\":\n",
    "            gdal.Warp('output.tif', file_path, format='GTiff', dstSRS='EPSG:4978')\n",
    "            \n",
    "            image = tifffile.imread('output.tif')\n",
    "            zarr_dir = file_path.with_suffix(\".zarr\")\n",
    "            zarr_dir_str = str(zarr_dir)  # Convert Path object to string\n",
    "            \n",
    "            # Save the image as a Zarr array locally\n",
    "            zarr.save(zarr_dir_str, image, chunks=np.array((512,512)))\n",
    "            # Upload the Zarr directory to MinIO\n",
    "            minio_zarr_path = f\"raw/{file_path.stem}.zarr\"\n",
    "            print(f\"Uploading Zarr store to MinIO: {minio_zarr_path}\")\n",
    "            upload_to_minio(minio_client, bucket_name, zarr_dir, minio_zarr_path)\n",
    "            \n",
    "            if os.path.exists(zarr_dir):\n",
    "                shutil.rmtree(zarr_dir)\n",
    "                os.remove('output.tif')"
   ]
  },
  {
   "cell_type": "code",
   "execution_count": 32,
   "metadata": {},
   "outputs": [],
   "source": [
    "metadata_path = Path(\"./Test/38-Cloud_95-Cloud_Test_Metadata_Files/38-Cloud_95-Cloud_Test_Metadata_Files\")"
   ]
  },
  {
   "cell_type": "code",
   "execution_count": 35,
   "metadata": {},
   "outputs": [],
   "source": [
    "def parse_mtl(mtl_path):\n",
    "    metadata = {}\n",
    "    pattern = re.compile(r'(\\w+)\\s=\\s\"?(.*?)\"?$')\n",
    "    with open(mtl_path, 'r') as file:\n",
    "        for line in file:\n",
    "            match = pattern.search(line.strip())\n",
    "            if match:\n",
    "                key, val = match.groups()\n",
    "                metadata[key] = val\n",
    "    return metadata"
   ]
  },
  {
   "cell_type": "code",
   "execution_count": 55,
   "metadata": {},
   "outputs": [],
   "source": [
    "def make_stac_item(metadata,zarr_path):\n",
    "    # Bounding box (UL, LR)\n",
    "    ul_lat = float(metadata[\"CORNER_UL_LAT_PRODUCT\"])\n",
    "    ul_lon = float(metadata[\"CORNER_UL_LON_PRODUCT\"])\n",
    "    lr_lat = float(metadata[\"CORNER_LR_LAT_PRODUCT\"])\n",
    "    lr_lon = float(metadata[\"CORNER_LR_LON_PRODUCT\"])\n",
    "    bbox = [ul_lon, lr_lat, lr_lon, ul_lat]\n",
    "\n",
    "    # Geometry as polygon (UL, UR, LR, LL, back to UL)\n",
    "    geometry = {\n",
    "        \"type\": \"Polygon\",\n",
    "        \"coordinates\": [[\n",
    "            [float(metadata[\"CORNER_UL_LON_PRODUCT\"]), float(metadata[\"CORNER_UL_LAT_PRODUCT\"])],\n",
    "            [float(metadata[\"CORNER_UR_LON_PRODUCT\"]), float(metadata[\"CORNER_UR_LAT_PRODUCT\"])],\n",
    "            [float(metadata[\"CORNER_LR_LON_PRODUCT\"]), float(metadata[\"CORNER_LR_LAT_PRODUCT\"])],\n",
    "            [float(metadata[\"CORNER_LL_LON_PRODUCT\"]), float(metadata[\"CORNER_LL_LAT_PRODUCT\"])],\n",
    "            [float(metadata[\"CORNER_UL_LON_PRODUCT\"]), float(metadata[\"CORNER_UL_LAT_PRODUCT\"])]\n",
    "        ]]\n",
    "    }\n",
    "\n",
    "    # Acquisition time\n",
    "    dt_str = metadata[\"DATE_ACQUIRED\"] + \"T\" + metadata[\"SCENE_CENTER_TIME\"]\n",
    "    dt = parser.isoparse(dt_str)\n",
    "\n",
    "    # Create item\n",
    "    item = pystac.Item(\n",
    "        id=metadata[\"LANDSAT_PRODUCT_ID\"],\n",
    "        bbox=bbox,\n",
    "        geometry=geometry,\n",
    "        datetime=dt,\n",
    "        properties={\n",
    "            \"platform\": metadata[\"SPACECRAFT_ID\"].lower().replace(\"_\", \"-\"),\n",
    "            \"instruments\": [i.lower() for i in metadata[\"SENSOR_ID\"].split(\"_\")],\n",
    "            \"eo:cloud_cover\": float(metadata[\"CLOUD_COVER\"]),\n",
    "            \"sat:cloud_cover\": float(metadata[\"CLOUD_COVER\"]),\n",
    "            \"sat:off_nadir\": 0.0,\n",
    "            \"sat:orbit_state\": \"descending\",\n",
    "            \"gsd\": 30  # Approximate\n",
    "        }\n",
    "    )\n",
    "\n",
    "    # Enable extensions\n",
    "    EOExtension.add_to(item)\n",
    "    SatExtension.add_to(item)\n",
    "\n",
    "    # Add Zarr asset\n",
    "    zarr_href = \"raw/LC08.zarr\"  # Adjust as needed\n",
    "    item.add_asset(\n",
    "        \"data_zarr\",\n",
    "        pystac.Asset(\n",
    "            href=zarr_href,\n",
    "            media_type=\"application/vnd+zarr\",\n",
    "            roles=[\"data\"],\n",
    "            title=\"Landsat 8 Zarr Dataset\",\n",
    "            extra_fields={\n",
    "                \"xarray:open_kwargs\": {\"consolidated\": True}\n",
    "            }\n",
    "        )\n",
    "    )\n",
    "\n",
    "    return item"
   ]
  },
  {
   "cell_type": "code",
   "execution_count": 67,
   "metadata": {},
   "outputs": [
    {
     "name": "stdout",
     "output_type": "stream",
     "text": [
      "Uploading STAC to MinIO: stac/LC08_L1TP_050024_20160520_20170324_01_T1.json\n",
      "Uploading STAC to MinIO: stac/LC08_L1TP_032037_20160420_20170223_01_T1.json\n",
      "Uploading STAC to MinIO: stac/LC08_L1TP_064015_20160420_20170223_01_T1.json\n",
      "Uploading STAC to MinIO: stac/LC08_L1TP_063013_20160920_20170221_01_T1.json\n",
      "Uploading STAC to MinIO: stac/LC08_L1TP_066014_20160520_20170223_01_T1.json\n",
      "Uploading STAC to MinIO: stac/LC08_L1TP_018008_20160520_20170324_01_T1.json\n",
      "Uploading STAC to MinIO: stac/LC08_L1TP_029041_20160720_20170222_01_T1.json\n",
      "Uploading STAC to MinIO: stac/LC08_L1TP_064012_20160420_20170223_01_T1.json\n",
      "Uploading STAC to MinIO: stac/LC08_L1TP_029044_20160720_20170222_01_T1.json\n",
      "Uploading STAC to MinIO: stac/LC08_L1TP_035029_20160120_20170224_01_T1.json\n",
      "Uploading STAC to MinIO: stac/LC08_L1TP_003052_20160120_20170405_01_T1.json\n",
      "Uploading STAC to MinIO: stac/LC08_L1TP_034037_20160520_20170223_01_T1.json\n",
      "Uploading STAC to MinIO: stac/LC08_L1TP_063012_20160920_20170221_01_T1.json\n",
      "Uploading STAC to MinIO: stac/LC08_L1TP_029032_20160720_20170222_01_T1.json\n",
      "Uploading STAC to MinIO: stac/LC08_L1TP_039035_20160320_20170224_01_T1.json\n",
      "Uploading STAC to MinIO: stac/LC08_L1TP_032030_20160420_20170223_01_T1.json\n",
      "Uploading STAC to MinIO: stac/LC08_L1TP_032035_20160420_20170223_01_T1.json\n",
      "Uploading STAC to MinIO: stac/LC08_L1TP_034029_20160520_20170223_01_T1.json\n",
      "Uploading STAC to MinIO: stac/LC08_L1TP_035035_20160120_20170224_01_T1.json\n",
      "Uploading STAC to MinIO: stac/LC08_L1TP_034033_20160520_20170223_01_T1.json\n"
     ]
    }
   ],
   "source": [
    "for file_path in source_path.glob(\"*\"):\n",
    "    if file_path.is_file():\n",
    "        minio_zarr_path = f\"raw/{file_path.stem}.zarr\"\n",
    "        \n",
    "        base_name = os.path.splitext(os.path.basename(file_path))[0]\n",
    "\n",
    "        mtl_filename = f\"{base_name}_MTL.txt\"\n",
    "        \n",
    "        full_path = os.path.join(metadata_path, mtl_filename)\n",
    "        metadata = parse_mtl(full_path)\n",
    "        item = make_stac_item(metadata, minio_zarr_path)\n",
    "        item.save_object(dest_href=f\"{item.id}.json\")\n",
    "        \n",
    "        minio_stac_path = f\"stac/{item.id}.json\"\n",
    "        print(f\"Uploading STAC to MinIO: {minio_stac_path}\")\n",
    "        \n",
    "        upload_to_minio(minio_client, bucket_name, f\"{item.id}.json\", minio_stac_path)\n",
    "        \n",
    "        if os.path.exists(f'{item.id}.json'):\n",
    "                os.remove(f'{item.id}.json')"
   ]
  }
 ],
 "metadata": {
  "kernelspec": {
   "display_name": "ComputerVision",
   "language": "python",
   "name": "python3"
  },
  "language_info": {
   "codemirror_mode": {
    "name": "ipython",
    "version": 3
   },
   "file_extension": ".py",
   "mimetype": "text/x-python",
   "name": "python",
   "nbconvert_exporter": "python",
   "pygments_lexer": "ipython3",
   "version": "3.8.18"
  }
 },
 "nbformat": 4,
 "nbformat_minor": 2
}
