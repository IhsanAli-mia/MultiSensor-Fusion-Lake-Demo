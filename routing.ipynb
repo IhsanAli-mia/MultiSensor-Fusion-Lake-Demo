{
 "cells": [
  {
   "cell_type": "code",
   "execution_count": 1,
   "metadata": {},
   "outputs": [],
   "source": [
    "import jax\n",
    "import jax.numpy as jnp\n",
    "import numpy as np\n",
    "from numpyro import sample, plate\n",
    "from numpyro.infer import MCMC, NUTS\n",
    "import numpyro.distributions as dist\n",
    "from numpy.random import default_rng"
   ]
  },
  {
   "cell_type": "code",
   "execution_count": 15,
   "metadata": {},
   "outputs": [],
   "source": [
    "K = 4   # {Train, Clean, EDA, Release}\n",
    "d = 6   # Feature dimensions\n",
    "N = 1  # Number of scenes\n",
    "rng = default_rng(42)"
   ]
  },
  {
   "cell_type": "code",
   "execution_count": 16,
   "metadata": {},
   "outputs": [],
   "source": [
    "def generate_scene_vector():\n",
    "    x_india = rng.integers(0, 2)\n",
    "    imbs = rng.uniform(0, 1)\n",
    "    divs = rng.uniform(0, 1)\n",
    "    clouds = rng.uniform(0, 100) / 100\n",
    "    months = rng.integers(1, 13) / 12\n",
    "    aligns = rng.uniform(0, 1)\n",
    "    return np.array([x_india, imbs, divs, clouds, months, aligns])\n",
    "\n",
    "X = np.stack([generate_scene_vector() for _ in range(N)])"
   ]
  },
  {
   "cell_type": "code",
   "execution_count": 22,
   "metadata": {},
   "outputs": [],
   "source": [
    "true_beta = rng.normal(0, 1, size=(K, d))\n",
    "true_pi = rng.dirichlet([1.0]*K)"
   ]
  },
  {
   "cell_type": "code",
   "execution_count": 23,
   "metadata": {},
   "outputs": [],
   "source": [
    "logits = X @ true_beta.T\n",
    "probs = (true_pi * np.exp(logits.T)).T\n",
    "probs = probs / probs.sum(axis=1, keepdims=True)\n",
    "y = np.array([rng.choice(K, p=p) for p in probs])"
   ]
  },
  {
   "cell_type": "code",
   "execution_count": 24,
   "metadata": {},
   "outputs": [],
   "source": [
    "def routing_model(X, y=None):\n",
    "    pi = sample(\"pi\", dist.Dirichlet(jnp.ones(K)))\n",
    "    sigma = sample(\"sigma\", dist.HalfCauchy(1.0))\n",
    "    beta = sample(\"beta\", dist.Normal(0, sigma).expand([K, d]))\n",
    "\n",
    "    logits = jnp.dot(X, beta.T) + jnp.log(pi)\n",
    "    probs = jax.nn.softmax(logits)\n",
    "\n",
    "    with plate(\"data\", X.shape[0]):\n",
    "        sample(\"obs\", dist.Categorical(probs=probs), obs=y)"
   ]
  },
  {
   "cell_type": "code",
   "execution_count": 25,
   "metadata": {},
   "outputs": [
    {
     "name": "stderr",
     "output_type": "stream",
     "text": [
      "sample: 100%|██████████| 1500/1500 [00:02<00:00, 572.09it/s, 63 steps of size 1.17e-01. acc. prob=0.88]\n"
     ]
    }
   ],
   "source": [
    "kernel = NUTS(routing_model)\n",
    "mcmc = MCMC(kernel, num_warmup=500, num_samples=1000, num_chains=1)\n",
    "mcmc.run(jax.random.PRNGKey(0), X=X, y=y)\n",
    "posterior = mcmc.get_samples()"
   ]
  },
  {
   "cell_type": "code",
   "execution_count": 30,
   "metadata": {},
   "outputs": [],
   "source": [
    "def predict_routing_probs(x_new, posterior):\n",
    "    beta_samples = posterior['beta']         # shape: (S, K, d)\n",
    "    pi_samples = posterior['pi']             # shape: (S, K)\n",
    "    \n",
    "    S = beta_samples.shape[0]                # number of posterior samples\n",
    "\n",
    "    # Repeat x_new for all samples: shape (S, K, d)\n",
    "    x_rep = jnp.repeat(x_new[None, :, :], S, axis=0)  # (S, 1, d)\n",
    "    x_rep = jnp.tile(x_rep, (1, K, 1))                # (S, K, d)\n",
    "\n",
    "    # Compute logits for each sample\n",
    "    logits = jnp.sum(beta_samples * x_rep, axis=-1) + jnp.log(pi_samples)  # shape: (S, K)\n",
    "    probs = jax.nn.softmax(logits, axis=-1)\n",
    "\n",
    "    return probs.mean(axis=0) "
   ]
  },
  {
   "cell_type": "code",
   "execution_count": 31,
   "metadata": {},
   "outputs": [],
   "source": [
    "x_test = jnp.array(generate_scene_vector()).reshape(1, -1)\n",
    "routing_probs = predict_routing_probs(x_test, posterior)"
   ]
  },
  {
   "cell_type": "code",
   "execution_count": 32,
   "metadata": {},
   "outputs": [
    {
     "name": "stdout",
     "output_type": "stream",
     "text": [
      "Train: 0.259\n",
      "Clean: 0.372\n",
      "EDA: 0.248\n",
      "Release: 0.121\n",
      "Predicted mode: Clean\n"
     ]
    }
   ],
   "source": [
    "modes = [\"Train\", \"Clean\", \"EDA\", \"Release\"]\n",
    "for mode, p in zip(modes, routing_probs):\n",
    "    print(f\"{mode}: {p:.3f}\")\n",
    "\n",
    "print(f\"Predicted mode: {modes[jnp.argmax(routing_probs)]}\")"
   ]
  }
 ],
 "metadata": {
  "kernelspec": {
   "display_name": "ComputerVision",
   "language": "python",
   "name": "python3"
  },
  "language_info": {
   "codemirror_mode": {
    "name": "ipython",
    "version": 3
   },
   "file_extension": ".py",
   "mimetype": "text/x-python",
   "name": "python",
   "nbconvert_exporter": "python",
   "pygments_lexer": "ipython3",
   "version": "3.8.18"
  }
 },
 "nbformat": 4,
 "nbformat_minor": 2
}
